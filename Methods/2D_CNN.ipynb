{
  "nbformat": 4,
  "nbformat_minor": 0,
  "metadata": {
    "colab": {
      "name": "2D CNN.ipynb",
      "provenance": []
    },
    "kernelspec": {
      "name": "python3",
      "display_name": "Python 3"
    },
    "language_info": {
      "name": "python"
    },
    "accelerator": "GPU"
  },
  "cells": [
    {
      "cell_type": "markdown",
      "metadata": {
        "id": "6eaJPokSlKnr"
      },
      "source": [
        "# 2D Convolutional Variational Autoencoder\n",
        "\n",
        "*   Input data shape (12906, 658, 5) with one-hot encoding.\n",
        "*   The training accuracy with 100 epochs can lead to 97%. The following training accuracy with 40 epochs is up to 96.5%.\n",
        "\n"
      ]
    },
    {
      "cell_type": "code",
      "metadata": {
        "id": "xwE977jQjxEr"
      },
      "source": [
        "import torch\n",
        "import torchvision\n",
        "import torchvision.transforms as transforms\n",
        "import numpy as np\n",
        "from numpy import array\n",
        "from numpy import argmax\n",
        "from sklearn.preprocessing import LabelEncoder\n",
        "from sklearn.preprocessing import OneHotEncoder\n",
        "import re\n",
        "import pandas as pd\n",
        "import numpy as np\n",
        "import tensorflow as tf\n",
        "from tensorflow import keras\n",
        "from tensorflow.keras import layers\n"
      ],
      "execution_count": 1,
      "outputs": []
    },
    {
      "cell_type": "code",
      "metadata": {
        "colab": {
          "base_uri": "https://localhost:8080/",
          "height": 103
        },
        "id": "2KwxM4l0kZlU",
        "outputId": "cae693da-6ccf-4adb-eeca-ac8381c49d9a"
      },
      "source": [
        "## adjust the length of DNA sequence with 658\n",
        "## remove the uncorrect characters 'K','M', 'N', 'R', 'S', 'W', 'Y'\n",
        "df = pd.read_csv (r'/content/train_features.csv')\n",
        "def equal_length(seq):\n",
        "    seq2 = seq.ljust(1058, '-') \n",
        "    fir = seq2[0:658]\n",
        "    remove_characters = ['K','M', 'N', 'R', 'S', 'W', 'Y']\n",
        "    for character in remove_characters:\n",
        "        fir = fir.replace(character, \"-\")\n",
        "    return fir\n",
        "dna = df.dna.apply(equal_length)\n",
        "## Example for arbitery DNA sequence\n",
        "dna[3]"
      ],
      "execution_count": 2,
      "outputs": [
        {
          "output_type": "execute_result",
          "data": {
            "application/vnd.google.colaboratory.intrinsic+json": {
              "type": "string"
            },
            "text/plain": [
              "'AACATTATATTTTATTTTTGGTGCATGAGCTGGAATAGTAGGAACTTCATTAAGTATGCTAATTCGAGCTGAATTAGGAAACCCAGGTGCATTAATTGGAGATGACCAAATTTATAATGTTATTGTTACTGCACATGCATTTATTATGATTTTTTTTATAGTTATACCTATTATAATTGGAGGATTTGGAAATTGATTAGTTCCTTTAATATTAGGAGCCCCAGATATAGCTTTTCCTCGAATAAATAATATAAGTTTTTGATTACTTCCTCCTTCATTAACGCTCCTCTTAATAAGAAGTCTAGTG---------------------------------------------------------------------------------------------------------------------------------------------------------------------------------------------------------------------------------------------------------------------------------------------------------------------------------------------------------------'"
            ]
          },
          "metadata": {},
          "execution_count": 2
        }
      ]
    },
    {
      "cell_type": "code",
      "metadata": {
        "id": "wEsomVTbkcMx"
      },
      "source": [
        "\n",
        "from numpy import argmax\n",
        "\n",
        "def one_hot_encode(seq):\n",
        "  # define universe of possible input values\n",
        "  #alphabet = 'ACGT-KMNRSWY'\n",
        "  alphabet = 'ACGT-'\n",
        "  # define a mapping of chars to integers\n",
        "  char_to_int = dict((c, i) for i, c in enumerate(alphabet))\n",
        "  int_to_char = dict((i, c) for i, c in enumerate(alphabet))\n",
        "  # integer encode input data\n",
        "  integer_encoded = [char_to_int[char] for char in seq]\n",
        "  # one hot encode\n",
        "  onehot_encoded = list()\n",
        "  for value in integer_encoded:\n",
        "\t  letter = [0 for _ in range(len(alphabet))]\n",
        "\t  letter[value] = 1\n",
        "\t  onehot_encoded.append(letter)\n",
        "  return(np.asarray(onehot_encoded))\n",
        "dna_code = dna.apply(one_hot_encode)"
      ],
      "execution_count": 3,
      "outputs": []
    },
    {
      "cell_type": "code",
      "metadata": {
        "colab": {
          "base_uri": "https://localhost:8080/"
        },
        "id": "uPdE9NEmkurb",
        "outputId": "9040d70f-274d-457b-dea9-0252e206ae02"
      },
      "source": [
        "x_dna = dna_code.to_list()\n",
        "x_dna = np.array(x_dna)\n",
        "y_train = pd.read_csv (r'/content/train_labels.csv')\n",
        "ytrain = np.array(y_train['labels'], dtype = \"uint32\")\n",
        "x_dna.shape"
      ],
      "execution_count": 6,
      "outputs": [
        {
          "output_type": "execute_result",
          "data": {
            "text/plain": [
              "(12906, 658, 5)"
            ]
          },
          "metadata": {},
          "execution_count": 6
        }
      ]
    },
    {
      "cell_type": "code",
      "metadata": {
        "colab": {
          "base_uri": "https://localhost:8080/"
        },
        "id": "ZQsBIY_bkdMw",
        "outputId": "881aa0da-70da-4a04-ef00-23eaab6604d2"
      },
      "source": [
        "xtrain = np.expand_dims(x_dna, -1)\n",
        "model = tf.keras.models.Sequential([  \n",
        "  keras.Input(shape=(658,5,1)),\n",
        "  layers.Conv2D(64, 3, activation=\"relu\", strides=(4, 1),padding=\"same\"),\n",
        "  layers.Conv2D(32, 3, activation=\"relu\",  strides=(2, 2),padding=\"same\"),\n",
        "  layers.Flatten(),\n",
        "  layers.Dense(256, activation='relu'),\n",
        "  layers.Dropout(0.2, seed=3),\n",
        "  layers.Dense(1220, activation='softmax')\n",
        "])\n",
        "\n",
        "model.compile(optimizer='adam',\n",
        "              loss='sparse_categorical_crossentropy',\n",
        "              metrics=['accuracy'])\n",
        "\n",
        "model.fit(xtrain, ytrain, epochs=40, validation_split=0.2, verbose=2)"
      ],
      "execution_count": 7,
      "outputs": [
        {
          "output_type": "stream",
          "name": "stdout",
          "text": [
            "Epoch 1/40\n",
            "323/323 - 34s - loss: 6.1627 - accuracy: 0.0889 - val_loss: 4.4352 - val_accuracy: 0.2754\n",
            "Epoch 2/40\n",
            "323/323 - 2s - loss: 2.2141 - accuracy: 0.5899 - val_loss: 0.9393 - val_accuracy: 0.8284\n",
            "Epoch 3/40\n",
            "323/323 - 2s - loss: 0.5904 - accuracy: 0.8714 - val_loss: 0.4637 - val_accuracy: 0.9206\n",
            "Epoch 4/40\n",
            "323/323 - 2s - loss: 0.3390 - accuracy: 0.9178 - val_loss: 0.4177 - val_accuracy: 0.9345\n",
            "Epoch 5/40\n",
            "323/323 - 2s - loss: 0.2329 - accuracy: 0.9359 - val_loss: 0.3899 - val_accuracy: 0.9450\n",
            "Epoch 6/40\n",
            "323/323 - 2s - loss: 0.1829 - accuracy: 0.9500 - val_loss: 0.3940 - val_accuracy: 0.9469\n",
            "Epoch 7/40\n",
            "323/323 - 2s - loss: 0.1389 - accuracy: 0.9616 - val_loss: 0.3668 - val_accuracy: 0.9500\n",
            "Epoch 8/40\n",
            "323/323 - 2s - loss: 0.1177 - accuracy: 0.9671 - val_loss: 0.4125 - val_accuracy: 0.9531\n",
            "Epoch 9/40\n",
            "323/323 - 2s - loss: 0.1054 - accuracy: 0.9681 - val_loss: 0.3894 - val_accuracy: 0.9558\n",
            "Epoch 10/40\n",
            "323/323 - 2s - loss: 0.0975 - accuracy: 0.9718 - val_loss: 0.4676 - val_accuracy: 0.9551\n",
            "Epoch 11/40\n",
            "323/323 - 2s - loss: 0.0951 - accuracy: 0.9681 - val_loss: 0.4235 - val_accuracy: 0.9551\n",
            "Epoch 12/40\n",
            "323/323 - 2s - loss: 0.0783 - accuracy: 0.9769 - val_loss: 0.4280 - val_accuracy: 0.9578\n",
            "Epoch 13/40\n",
            "323/323 - 2s - loss: 0.0679 - accuracy: 0.9807 - val_loss: 0.4180 - val_accuracy: 0.9586\n",
            "Epoch 14/40\n",
            "323/323 - 2s - loss: 0.0673 - accuracy: 0.9814 - val_loss: 0.4217 - val_accuracy: 0.9578\n",
            "Epoch 15/40\n",
            "323/323 - 2s - loss: 0.0646 - accuracy: 0.9812 - val_loss: 0.4247 - val_accuracy: 0.9593\n",
            "Epoch 16/40\n",
            "323/323 - 2s - loss: 0.0684 - accuracy: 0.9790 - val_loss: 0.4382 - val_accuracy: 0.9620\n",
            "Epoch 17/40\n",
            "323/323 - 2s - loss: 0.0524 - accuracy: 0.9834 - val_loss: 0.4286 - val_accuracy: 0.9589\n",
            "Epoch 18/40\n",
            "323/323 - 2s - loss: 0.0582 - accuracy: 0.9827 - val_loss: 0.4174 - val_accuracy: 0.9636\n",
            "Epoch 19/40\n",
            "323/323 - 2s - loss: 0.0477 - accuracy: 0.9855 - val_loss: 0.4908 - val_accuracy: 0.9609\n",
            "Epoch 20/40\n",
            "323/323 - 2s - loss: 0.0473 - accuracy: 0.9845 - val_loss: 0.5071 - val_accuracy: 0.9613\n",
            "Epoch 21/40\n",
            "323/323 - 2s - loss: 0.0490 - accuracy: 0.9854 - val_loss: 0.4836 - val_accuracy: 0.9620\n",
            "Epoch 22/40\n",
            "323/323 - 2s - loss: 0.0522 - accuracy: 0.9837 - val_loss: 0.4549 - val_accuracy: 0.9582\n",
            "Epoch 23/40\n",
            "323/323 - 2s - loss: 0.0449 - accuracy: 0.9870 - val_loss: 0.4545 - val_accuracy: 0.9620\n",
            "Epoch 24/40\n",
            "323/323 - 2s - loss: 0.0397 - accuracy: 0.9884 - val_loss: 0.4599 - val_accuracy: 0.9624\n",
            "Epoch 25/40\n",
            "323/323 - 2s - loss: 0.0440 - accuracy: 0.9865 - val_loss: 0.4736 - val_accuracy: 0.9644\n",
            "Epoch 26/40\n",
            "323/323 - 2s - loss: 0.0392 - accuracy: 0.9867 - val_loss: 0.5191 - val_accuracy: 0.9613\n",
            "Epoch 27/40\n",
            "323/323 - 2s - loss: 0.0334 - accuracy: 0.9905 - val_loss: 0.4169 - val_accuracy: 0.9613\n",
            "Epoch 28/40\n",
            "323/323 - 2s - loss: 0.0325 - accuracy: 0.9902 - val_loss: 0.4718 - val_accuracy: 0.9628\n",
            "Epoch 29/40\n",
            "323/323 - 2s - loss: 0.0354 - accuracy: 0.9882 - val_loss: 0.5044 - val_accuracy: 0.9628\n",
            "Epoch 30/40\n",
            "323/323 - 2s - loss: 0.0289 - accuracy: 0.9916 - val_loss: 0.5298 - val_accuracy: 0.9620\n",
            "Epoch 31/40\n",
            "323/323 - 2s - loss: 0.0311 - accuracy: 0.9895 - val_loss: 0.4982 - val_accuracy: 0.9628\n",
            "Epoch 32/40\n",
            "323/323 - 2s - loss: 0.0322 - accuracy: 0.9898 - val_loss: 0.5274 - val_accuracy: 0.9628\n",
            "Epoch 33/40\n",
            "323/323 - 2s - loss: 0.0306 - accuracy: 0.9907 - val_loss: 0.4826 - val_accuracy: 0.9605\n",
            "Epoch 34/40\n",
            "323/323 - 2s - loss: 0.0307 - accuracy: 0.9912 - val_loss: 0.4361 - val_accuracy: 0.9655\n",
            "Epoch 35/40\n",
            "323/323 - 2s - loss: 0.0247 - accuracy: 0.9922 - val_loss: 0.5216 - val_accuracy: 0.9632\n",
            "Epoch 36/40\n",
            "323/323 - 2s - loss: 0.0231 - accuracy: 0.9932 - val_loss: 0.4757 - val_accuracy: 0.9648\n",
            "Epoch 37/40\n",
            "323/323 - 2s - loss: 0.0285 - accuracy: 0.9928 - val_loss: 0.4756 - val_accuracy: 0.9628\n",
            "Epoch 38/40\n",
            "323/323 - 2s - loss: 0.0228 - accuracy: 0.9930 - val_loss: 0.5174 - val_accuracy: 0.9620\n",
            "Epoch 39/40\n",
            "323/323 - 2s - loss: 0.0267 - accuracy: 0.9927 - val_loss: 0.5022 - val_accuracy: 0.9648\n",
            "Epoch 40/40\n",
            "323/323 - 2s - loss: 0.0227 - accuracy: 0.9933 - val_loss: 0.5597 - val_accuracy: 0.9620\n"
          ]
        },
        {
          "output_type": "execute_result",
          "data": {
            "text/plain": [
              "<keras.callbacks.History at 0x7f89a01a01d0>"
            ]
          },
          "metadata": {},
          "execution_count": 7
        }
      ]
    }
  ]
}