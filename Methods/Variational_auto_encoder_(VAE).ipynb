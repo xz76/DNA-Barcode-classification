{
  "nbformat": 4,
  "nbformat_minor": 0,
  "metadata": {
    "colab": {
      "name": "Variational auto encoder (VAE).ipynb",
      "provenance": [],
      "collapsed_sections": []
    },
    "kernelspec": {
      "name": "python3",
      "display_name": "Python 3"
    },
    "language_info": {
      "name": "python"
    },
    "accelerator": "GPU"
  },
  "cells": [
    {
      "cell_type": "markdown",
      "metadata": {
        "id": "Fee02m-2-PKK"
      },
      "source": [
        "# Variational auto encoder (VAE) fed into supervised learning algorithm\n",
        "\n",
        "*   Generate 100 embeddings by using VAE.\n",
        "*   Fed into feed forward neural network and got 95.56% accuracy.\n",
        "*   Fed into SVM, and got 94.84% accuracy.\n",
        "*   Final score at Kaggle : 94.317%\n",
        "\n"
      ]
    },
    {
      "cell_type": "code",
      "metadata": {
        "id": "__wUL__72LTW"
      },
      "source": [
        "import torch\n",
        "import torchvision\n",
        "import torchvision.transforms as transforms\n",
        "import numpy as np\n",
        "from numpy import array\n",
        "from numpy import argmax\n",
        "from sklearn.preprocessing import LabelEncoder\n",
        "from sklearn.preprocessing import OneHotEncoder\n",
        "import re"
      ],
      "execution_count": 1,
      "outputs": []
    },
    {
      "cell_type": "code",
      "metadata": {
        "id": "HlGis2zg4JHV"
      },
      "source": [
        "import pandas as pd\n",
        "df = pd.read_csv (r'/content/train_features.csv')\n"
      ],
      "execution_count": 2,
      "outputs": []
    },
    {
      "cell_type": "code",
      "metadata": {
        "id": "B7EBvY52KSK0"
      },
      "source": [
        "def equal_length(seq):\n",
        "    seq2 = seq.ljust(1058, '-') \n",
        "    fir = seq2[0:658]\n",
        "    remove_characters = ['K','M', 'N', 'R', 'S', 'W', 'Y']\n",
        "    for character in remove_characters:\n",
        "        fir = fir.replace(character, \"-\")\n",
        "    return fir\n",
        "dna = df.dna.apply(equal_length)\n"
      ],
      "execution_count": 3,
      "outputs": []
    },
    {
      "cell_type": "code",
      "metadata": {
        "id": "F1_kZdn08Jk4"
      },
      "source": [
        "\n",
        "from numpy import argmax\n",
        "def one_hot_encode(seq):\n",
        "  # define universe of possible input values\n",
        "  #alphabet = 'ACGT-KMNRSWY'\n",
        "  alphabet = 'ACGT-'\n",
        "  # define a mapping of chars to integers\n",
        "  char_to_int = dict((c, i) for i, c in enumerate(alphabet))\n",
        "  int_to_char = dict((i, c) for i, c in enumerate(alphabet))\n",
        "  # integer encode input data\n",
        "  integer_encoded = [char_to_int[char] for char in seq]\n",
        "  # one hot encode\n",
        "  onehot_encoded = list()\n",
        "  for value in integer_encoded:\n",
        "\t  letter = [0 for _ in range(len(alphabet))]\n",
        "\t  letter[value] = 1\n",
        "\t  onehot_encoded.append(letter)\n",
        "  return(np.asarray(onehot_encoded))\n",
        "dna_code = dna.apply(one_hot_encode)"
      ],
      "execution_count": 4,
      "outputs": []
    },
    {
      "cell_type": "code",
      "metadata": {
        "colab": {
          "base_uri": "https://localhost:8080/"
        },
        "id": "zNyaOehX-iHs",
        "outputId": "e72f8d7d-39e7-4c92-bf10-304e37c9d60e"
      },
      "source": [
        "import numpy as np\n",
        "import tensorflow as tf\n",
        "from tensorflow import keras\n",
        "from tensorflow.keras import layers\n",
        "class Sampling(layers.Layer):\n",
        "    \"\"\"Uses (z_mean, z_log_var) to sample z, the vector encoding a digit.\"\"\"\n",
        "\n",
        "    def call(self, inputs):\n",
        "        z_mean, z_log_var = inputs\n",
        "        batch = tf.shape(z_mean)[0]\n",
        "        dim = tf.shape(z_mean)[1]\n",
        "        epsilon = tf.keras.backend.random_normal(shape=(batch, dim))\n",
        "        return z_mean + tf.exp(0.5 * z_log_var) * epsilon\n",
        "\n",
        "latent_dim = 100\n",
        "\n",
        "encoder_inputs = keras.Input(shape=(658, 5, 1))\n",
        "x = layers.Conv2D(32, 3, activation=\"relu\", strides=(7, 1),padding=\"same\")(encoder_inputs)\n",
        "x = layers.Conv2D(64, 3, activation=\"relu\",  strides=(2, 1),padding=\"same\")(x)\n",
        "x = layers.Flatten()(x)\n",
        "#x = layers.Dense(16, activation=\"relu\")(x)\n",
        "z_mean = layers.Dense(latent_dim, name=\"z_mean\")(x)\n",
        "z_log_var = layers.Dense(latent_dim, name=\"z_log_var\")(x)\n",
        "z = Sampling()([z_mean, z_log_var])\n",
        "encoder = keras.Model(encoder_inputs, [z_mean, z_log_var, z], name=\"encoder\")\n",
        "\n",
        "encoder.summary()\n",
        "\n",
        "latent_inputs = keras.Input(shape=(latent_dim,))\n",
        "x = layers.Dense(47 * 5 * 64, activation=\"relu\")(latent_inputs)\n",
        "x = layers.Reshape((47, 5, 64))(x)\n",
        "x = layers.Conv2DTranspose(64, 3, activation=\"relu\", strides=(2, 1), padding=\"same\")(x)\n",
        "x = layers.Conv2DTranspose(32, 3, activation=\"relu\", strides=(7, 1), padding=\"same\")(x)\n",
        "decoder_outputs = layers.Conv2DTranspose(1, 3, activation=\"sigmoid\", padding=\"same\")(x)\n",
        "decoder = keras.Model(latent_inputs, decoder_outputs, name=\"decoder\")\n",
        "decoder.summary()"
      ],
      "execution_count": 5,
      "outputs": [
        {
          "output_type": "stream",
          "name": "stdout",
          "text": [
            "Model: \"encoder\"\n",
            "__________________________________________________________________________________________________\n",
            "Layer (type)                    Output Shape         Param #     Connected to                     \n",
            "==================================================================================================\n",
            "input_1 (InputLayer)            [(None, 658, 5, 1)]  0                                            \n",
            "__________________________________________________________________________________________________\n",
            "conv2d (Conv2D)                 (None, 94, 5, 32)    320         input_1[0][0]                    \n",
            "__________________________________________________________________________________________________\n",
            "conv2d_1 (Conv2D)               (None, 47, 5, 64)    18496       conv2d[0][0]                     \n",
            "__________________________________________________________________________________________________\n",
            "flatten (Flatten)               (None, 15040)        0           conv2d_1[0][0]                   \n",
            "__________________________________________________________________________________________________\n",
            "z_mean (Dense)                  (None, 100)          1504100     flatten[0][0]                    \n",
            "__________________________________________________________________________________________________\n",
            "z_log_var (Dense)               (None, 100)          1504100     flatten[0][0]                    \n",
            "__________________________________________________________________________________________________\n",
            "sampling (Sampling)             (None, 100)          0           z_mean[0][0]                     \n",
            "                                                                 z_log_var[0][0]                  \n",
            "==================================================================================================\n",
            "Total params: 3,027,016\n",
            "Trainable params: 3,027,016\n",
            "Non-trainable params: 0\n",
            "__________________________________________________________________________________________________\n",
            "Model: \"decoder\"\n",
            "_________________________________________________________________\n",
            "Layer (type)                 Output Shape              Param #   \n",
            "=================================================================\n",
            "input_2 (InputLayer)         [(None, 100)]             0         \n",
            "_________________________________________________________________\n",
            "dense (Dense)                (None, 15040)             1519040   \n",
            "_________________________________________________________________\n",
            "reshape (Reshape)            (None, 47, 5, 64)         0         \n",
            "_________________________________________________________________\n",
            "conv2d_transpose (Conv2DTran (None, 94, 5, 64)         36928     \n",
            "_________________________________________________________________\n",
            "conv2d_transpose_1 (Conv2DTr (None, 658, 5, 32)        18464     \n",
            "_________________________________________________________________\n",
            "conv2d_transpose_2 (Conv2DTr (None, 658, 5, 1)         289       \n",
            "=================================================================\n",
            "Total params: 1,574,721\n",
            "Trainable params: 1,574,721\n",
            "Non-trainable params: 0\n",
            "_________________________________________________________________\n"
          ]
        }
      ]
    },
    {
      "cell_type": "code",
      "metadata": {
        "id": "tSFtoE4QJJKz"
      },
      "source": [
        "\n",
        "class VAE(keras.Model):\n",
        "    def __init__(self, encoder, decoder, **kwargs):\n",
        "        super(VAE, self).__init__(**kwargs)\n",
        "        self.encoder = encoder\n",
        "        self.decoder = decoder\n",
        "        self.total_loss_tracker = keras.metrics.Mean(name=\"total_loss\")\n",
        "        self.reconstruction_loss_tracker = keras.metrics.Mean(\n",
        "            name=\"reconstruction_loss\"\n",
        "        )\n",
        "        self.kl_loss_tracker = keras.metrics.Mean(name=\"kl_loss\")\n",
        "\n",
        "    @property\n",
        "    def metrics(self):\n",
        "        return [\n",
        "            self.total_loss_tracker,\n",
        "            self.reconstruction_loss_tracker,\n",
        "            self.kl_loss_tracker,\n",
        "        ]\n",
        "\n",
        "    def train_step(self, data):\n",
        "        with tf.GradientTape() as tape:\n",
        "            z_mean, z_log_var, z = self.encoder(data)\n",
        "            reconstruction = self.decoder(z)\n",
        "            reconstruction_loss = tf.reduce_mean(\n",
        "                tf.reduce_sum(\n",
        "                    keras.losses.binary_crossentropy(data, reconstruction), axis=(1, 2)\n",
        "                )\n",
        "            )\n",
        "            kl_loss = -0.5 * (1 + z_log_var - tf.square(z_mean) - tf.exp(z_log_var))\n",
        "            kl_loss = tf.reduce_mean(tf.reduce_sum(kl_loss, axis=1))\n",
        "            total_loss = reconstruction_loss + kl_loss\n",
        "        grads = tape.gradient(total_loss, self.trainable_weights)\n",
        "        self.optimizer.apply_gradients(zip(grads, self.trainable_weights))\n",
        "        self.total_loss_tracker.update_state(total_loss)\n",
        "        self.reconstruction_loss_tracker.update_state(reconstruction_loss)\n",
        "        self.kl_loss_tracker.update_state(kl_loss)\n",
        "        return {\n",
        "            \"loss\": self.total_loss_tracker.result(),\n",
        "            \"reconstruction_loss\": self.reconstruction_loss_tracker.result(),\n",
        "            \"kl_loss\": self.kl_loss_tracker.result(),\n",
        "        }"
      ],
      "execution_count": 6,
      "outputs": []
    },
    {
      "cell_type": "code",
      "metadata": {
        "colab": {
          "base_uri": "https://localhost:8080/"
        },
        "id": "iZTAU9HlJuCF",
        "outputId": "ac6867ce-e19f-4e4f-b180-247f566ffd19"
      },
      "source": [
        "x_dna = dna_code.to_list()\n",
        "x_dna = np.array(x_dna)\n",
        "x_dna.shape\n"
      ],
      "execution_count": 7,
      "outputs": [
        {
          "output_type": "execute_result",
          "data": {
            "text/plain": [
              "(12906, 658, 5)"
            ]
          },
          "metadata": {},
          "execution_count": 7
        }
      ]
    },
    {
      "cell_type": "code",
      "metadata": {
        "id": "O2IiAzGdJONX",
        "colab": {
          "base_uri": "https://localhost:8080/"
        },
        "outputId": "1ceda8f1-8b63-43fc-c0f1-83b243b881e9"
      },
      "source": [
        "\n",
        "xtrain = np.concatenate([x_dna], axis=0)\n",
        "xtrain = np.expand_dims(xtrain, -1)\n",
        "\n",
        "vae = VAE(encoder, decoder)\n",
        "vae.compile(optimizer=keras.optimizers.Adam())\n",
        "vae.fit(xtrain, epochs=10, batch_size=32)\n"
      ],
      "execution_count": 8,
      "outputs": [
        {
          "output_type": "stream",
          "name": "stdout",
          "text": [
            "Epoch 1/10\n",
            "404/404 [==============================] - 39s 16ms/step - loss: 1297.8273 - reconstruction_loss: 967.0591 - kl_loss: 29.4754\n",
            "Epoch 2/10\n",
            "404/404 [==============================] - 6s 15ms/step - loss: 782.6893 - reconstruction_loss: 727.4626 - kl_loss: 40.6339\n",
            "Epoch 3/10\n",
            "404/404 [==============================] - 6s 15ms/step - loss: 727.5963 - reconstruction_loss: 661.8493 - kl_loss: 56.0148\n",
            "Epoch 4/10\n",
            "404/404 [==============================] - 6s 15ms/step - loss: 688.6374 - reconstruction_loss: 610.5877 - kl_loss: 70.2761\n",
            "Epoch 5/10\n",
            "404/404 [==============================] - 6s 16ms/step - loss: 655.8224 - reconstruction_loss: 571.4760 - kl_loss: 79.5236\n",
            "Epoch 6/10\n",
            "404/404 [==============================] - 6s 15ms/step - loss: 633.6876 - reconstruction_loss: 546.0167 - kl_loss: 84.4387\n",
            "Epoch 7/10\n",
            "404/404 [==============================] - 6s 15ms/step - loss: 616.5876 - reconstruction_loss: 529.5092 - kl_loss: 86.3337\n",
            "Epoch 8/10\n",
            "404/404 [==============================] - 6s 15ms/step - loss: 605.3737 - reconstruction_loss: 518.2817 - kl_loss: 87.3328\n",
            "Epoch 9/10\n",
            "404/404 [==============================] - 6s 15ms/step - loss: 597.2960 - reconstruction_loss: 510.6989 - kl_loss: 87.4306\n",
            "Epoch 10/10\n",
            "404/404 [==============================] - 6s 15ms/step - loss: 592.9561 - reconstruction_loss: 505.6988 - kl_loss: 87.4898\n"
          ]
        },
        {
          "output_type": "execute_result",
          "data": {
            "text/plain": [
              "<keras.callbacks.History at 0x7f5730e2fe50>"
            ]
          },
          "metadata": {},
          "execution_count": 8
        }
      ]
    },
    {
      "cell_type": "code",
      "metadata": {
        "colab": {
          "base_uri": "https://localhost:8080/"
        },
        "id": "qW9iV4dn9UAS",
        "outputId": "940c99eb-9b9c-48b6-81b8-7cfbcc1da314"
      },
      "source": [
        "y_train = pd.read_csv (r'/content/train_labels.csv')\n",
        "ytrain = np.array(y_train['labels'], dtype = \"uint32\")\n",
        "\n",
        "z_mean, _, _ = vae.encoder.predict(xtrain)\n",
        "x_input = z_mean\n",
        "model = tf.keras.models.Sequential([  \n",
        "  keras.Input(shape=100),\n",
        "  layers.Flatten(),\n",
        "  layers.Dense(500, activation='relu'),\n",
        "  layers.Dropout(0.2, seed=3),\n",
        "  layers.Dense(1024, activation='relu'),\n",
        "  layers.Dense(1220, activation='softmax')\n",
        "])\n",
        "\n",
        "model.compile(optimizer='adam',\n",
        "              loss='sparse_categorical_crossentropy',\n",
        "              metrics=['accuracy'])\n",
        "\n",
        "model.fit(x_input, ytrain, epochs=40, validation_split=0.3, verbose=2)"
      ],
      "execution_count": 13,
      "outputs": [
        {
          "output_type": "stream",
          "name": "stdout",
          "text": [
            "Epoch 1/40\n",
            "283/283 - 2s - loss: 3.1555 - accuracy: 0.5552 - val_loss: 0.5902 - val_accuracy: 0.8915\n",
            "Epoch 2/40\n",
            "283/283 - 1s - loss: 0.3026 - accuracy: 0.9338 - val_loss: 0.3971 - val_accuracy: 0.9323\n",
            "Epoch 3/40\n",
            "283/283 - 1s - loss: 0.1513 - accuracy: 0.9611 - val_loss: 0.3680 - val_accuracy: 0.9437\n",
            "Epoch 4/40\n",
            "283/283 - 1s - loss: 0.1095 - accuracy: 0.9729 - val_loss: 0.3434 - val_accuracy: 0.9478\n",
            "Epoch 5/40\n",
            "283/283 - 1s - loss: 0.0757 - accuracy: 0.9803 - val_loss: 0.3437 - val_accuracy: 0.9489\n",
            "Epoch 6/40\n",
            "283/283 - 1s - loss: 0.0676 - accuracy: 0.9835 - val_loss: 0.3358 - val_accuracy: 0.9483\n",
            "Epoch 7/40\n",
            "283/283 - 1s - loss: 0.0481 - accuracy: 0.9858 - val_loss: 0.3121 - val_accuracy: 0.9548\n",
            "Epoch 8/40\n",
            "283/283 - 1s - loss: 0.0468 - accuracy: 0.9870 - val_loss: 0.3597 - val_accuracy: 0.9507\n",
            "Epoch 9/40\n",
            "283/283 - 1s - loss: 0.0488 - accuracy: 0.9884 - val_loss: 0.3327 - val_accuracy: 0.9545\n",
            "Epoch 10/40\n",
            "283/283 - 1s - loss: 0.0448 - accuracy: 0.9885 - val_loss: 0.4004 - val_accuracy: 0.9421\n",
            "Epoch 11/40\n",
            "283/283 - 1s - loss: 0.0436 - accuracy: 0.9887 - val_loss: 0.3506 - val_accuracy: 0.9553\n",
            "Epoch 12/40\n",
            "283/283 - 1s - loss: 0.0312 - accuracy: 0.9921 - val_loss: 0.3675 - val_accuracy: 0.9530\n",
            "Epoch 13/40\n",
            "283/283 - 1s - loss: 0.0338 - accuracy: 0.9909 - val_loss: 0.4001 - val_accuracy: 0.9496\n",
            "Epoch 14/40\n",
            "283/283 - 1s - loss: 0.0346 - accuracy: 0.9910 - val_loss: 0.4051 - val_accuracy: 0.9512\n",
            "Epoch 15/40\n",
            "283/283 - 1s - loss: 0.0392 - accuracy: 0.9894 - val_loss: 0.3974 - val_accuracy: 0.9509\n",
            "Epoch 16/40\n",
            "283/283 - 1s - loss: 0.0376 - accuracy: 0.9907 - val_loss: 0.4259 - val_accuracy: 0.9517\n",
            "Epoch 17/40\n",
            "283/283 - 1s - loss: 0.0335 - accuracy: 0.9920 - val_loss: 0.4117 - val_accuracy: 0.9530\n",
            "Epoch 18/40\n",
            "283/283 - 1s - loss: 0.0266 - accuracy: 0.9926 - val_loss: 0.3692 - val_accuracy: 0.9530\n",
            "Epoch 19/40\n",
            "283/283 - 1s - loss: 0.0296 - accuracy: 0.9936 - val_loss: 0.3872 - val_accuracy: 0.9540\n",
            "Epoch 20/40\n",
            "283/283 - 1s - loss: 0.0275 - accuracy: 0.9935 - val_loss: 0.3936 - val_accuracy: 0.9558\n",
            "Epoch 21/40\n",
            "283/283 - 1s - loss: 0.0273 - accuracy: 0.9928 - val_loss: 0.4227 - val_accuracy: 0.9517\n",
            "Epoch 22/40\n",
            "283/283 - 1s - loss: 0.0359 - accuracy: 0.9906 - val_loss: 0.4344 - val_accuracy: 0.9522\n",
            "Epoch 23/40\n",
            "283/283 - 1s - loss: 0.0347 - accuracy: 0.9907 - val_loss: 0.4593 - val_accuracy: 0.9499\n",
            "Epoch 24/40\n",
            "283/283 - 1s - loss: 0.0354 - accuracy: 0.9921 - val_loss: 0.4637 - val_accuracy: 0.9460\n",
            "Epoch 25/40\n",
            "283/283 - 1s - loss: 0.0260 - accuracy: 0.9941 - val_loss: 0.4544 - val_accuracy: 0.9496\n",
            "Epoch 26/40\n",
            "283/283 - 1s - loss: 0.0274 - accuracy: 0.9945 - val_loss: 0.4380 - val_accuracy: 0.9545\n",
            "Epoch 27/40\n",
            "283/283 - 1s - loss: 0.0351 - accuracy: 0.9928 - val_loss: 0.4288 - val_accuracy: 0.9545\n",
            "Epoch 28/40\n",
            "283/283 - 1s - loss: 0.0151 - accuracy: 0.9961 - val_loss: 0.4255 - val_accuracy: 0.9553\n",
            "Epoch 29/40\n",
            "283/283 - 1s - loss: 0.0068 - accuracy: 0.9982 - val_loss: 0.4382 - val_accuracy: 0.9566\n",
            "Epoch 30/40\n",
            "283/283 - 1s - loss: 0.0168 - accuracy: 0.9962 - val_loss: 0.4366 - val_accuracy: 0.9548\n",
            "Epoch 31/40\n",
            "283/283 - 1s - loss: 0.0135 - accuracy: 0.9967 - val_loss: 0.4591 - val_accuracy: 0.9538\n",
            "Epoch 32/40\n",
            "283/283 - 1s - loss: 0.0195 - accuracy: 0.9956 - val_loss: 0.4971 - val_accuracy: 0.9491\n",
            "Epoch 33/40\n",
            "283/283 - 1s - loss: 0.0368 - accuracy: 0.9913 - val_loss: 0.5695 - val_accuracy: 0.9478\n",
            "Epoch 34/40\n",
            "283/283 - 1s - loss: 0.0315 - accuracy: 0.9931 - val_loss: 0.5091 - val_accuracy: 0.9535\n",
            "Epoch 35/40\n",
            "283/283 - 1s - loss: 0.0217 - accuracy: 0.9951 - val_loss: 0.5140 - val_accuracy: 0.9527\n",
            "Epoch 36/40\n",
            "283/283 - 1s - loss: 0.0184 - accuracy: 0.9954 - val_loss: 0.5329 - val_accuracy: 0.9522\n",
            "Epoch 37/40\n",
            "283/283 - 1s - loss: 0.0140 - accuracy: 0.9971 - val_loss: 0.5316 - val_accuracy: 0.9514\n",
            "Epoch 38/40\n",
            "283/283 - 1s - loss: 0.0150 - accuracy: 0.9971 - val_loss: 0.4936 - val_accuracy: 0.9548\n",
            "Epoch 39/40\n",
            "283/283 - 1s - loss: 0.0069 - accuracy: 0.9975 - val_loss: 0.5211 - val_accuracy: 0.9520\n",
            "Epoch 40/40\n",
            "283/283 - 1s - loss: 0.0073 - accuracy: 0.9973 - val_loss: 0.5207 - val_accuracy: 0.9556\n"
          ]
        },
        {
          "output_type": "execute_result",
          "data": {
            "text/plain": [
              "<keras.callbacks.History at 0x7f566e967a10>"
            ]
          },
          "metadata": {},
          "execution_count": 13
        }
      ]
    },
    {
      "cell_type": "code",
      "metadata": {
        "id": "BjFM6sQu_FNw",
        "outputId": "3759585e-05d9-48cf-a287-e4618472bc50",
        "colab": {
          "base_uri": "https://localhost:8080/"
        }
      },
      "source": [
        "from numpy import mean\n",
        "from numpy import std\n",
        "from sklearn.model_selection import train_test_split\n",
        "from sklearn.datasets import make_classification\n",
        "from sklearn.model_selection import cross_val_score\n",
        "from sklearn.model_selection import RepeatedStratifiedKFold\n",
        "from sklearn.ensemble import RandomForestClassifier\n",
        "from sklearn import svm\n",
        "# define the model\n",
        "X_train, X_test, y_train, y_test = train_test_split(x_input, ytrain, test_size=0.4, random_state=0)\n",
        "clf = svm.SVC(kernel='linear', C=1).fit(X_train, y_train)\n",
        "clf.score(X_test, y_test)"
      ],
      "execution_count": 14,
      "outputs": [
        {
          "output_type": "execute_result",
          "data": {
            "text/plain": [
              "0.9484795661437149"
            ]
          },
          "metadata": {},
          "execution_count": 14
        }
      ]
    }
  ]
}