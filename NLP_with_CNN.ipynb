{
  "nbformat": 4,
  "nbformat_minor": 0,
  "metadata": {
    "colab": {
      "name": "NLP with CNN.ipynb",
      "provenance": [],
      "collapsed_sections": []
    },
    "kernelspec": {
      "name": "python3",
      "display_name": "Python 3"
    },
    "language_info": {
      "name": "python"
    }
  },
  "cells": [
    {
      "cell_type": "markdown",
      "metadata": {
        "id": "IsTBZRlSo4Vj"
      },
      "source": [
        "# NLP with CNN\n",
        "\n",
        "\n",
        "*   This model using `kashgari` package, which needs to use \"tensorflow 2.5.0\".\n",
        "*   The accuracy for training set can go to 98%.\n",
        "*   The final score at Kaggle is 96.291%.\n",
        "\n"
      ]
    },
    {
      "cell_type": "code",
      "metadata": {
        "id": "iHfE-KVgfWWl"
      },
      "source": [
        "import subprocess\n",
        "import sys\n",
        "\n",
        "def install(package):\n",
        "    subprocess.check_call([sys.executable, \"-m\", \"pip\", \"install\", package])"
      ],
      "execution_count": 2,
      "outputs": []
    },
    {
      "cell_type": "code",
      "metadata": {
        "id": "L1SpG9rwf88h"
      },
      "source": [
        "install(\"tensorflow_addons==0.13.0\")"
      ],
      "execution_count": 3,
      "outputs": []
    },
    {
      "cell_type": "code",
      "metadata": {
        "id": "6hodnj9Qtn3j"
      },
      "source": [
        "install(\"tensorflow==2.5.0\")"
      ],
      "execution_count": 4,
      "outputs": []
    },
    {
      "cell_type": "code",
      "metadata": {
        "id": "qJ4AuU2pfvcs"
      },
      "source": [
        "install(\"kashgari\")"
      ],
      "execution_count": 5,
      "outputs": []
    },
    {
      "cell_type": "code",
      "metadata": {
        "id": "iMvGLR0IdTJA",
        "colab": {
          "base_uri": "https://localhost:8080/"
        },
        "outputId": "36e8395f-a66b-4b2b-ca4c-08b3921e5619"
      },
      "source": [
        "import numpy as np\n",
        "import tensorflow as tf\n",
        "from tensorflow import keras\n",
        "from tensorflow.keras import layers\n",
        "import re\n",
        "from sklearn import model_selection, preprocessing, linear_model, naive_bayes, metrics, svm\n",
        "from sklearn.feature_extraction.text import TfidfVectorizer, CountVectorizer\n",
        "from sklearn import decomposition, ensemble\n",
        "\n",
        "import pandas, xgboost, numpy, textblob, string\n",
        "from keras.preprocessing import text, sequence\n",
        "from keras import layers, models, optimizers"
      ],
      "execution_count": 6,
      "outputs": [
        {
          "output_type": "stream",
          "name": "stderr",
          "text": [
            "Using TensorFlow backend.\n"
          ]
        }
      ]
    },
    {
      "cell_type": "code",
      "metadata": {
        "id": "eIyXLktzlbz_"
      },
      "source": [
        "import pandas as pd\n",
        "import matplotlib.pyplot as plt\n",
        "%matplotlib inline\n",
        "\n",
        "df_train = pd.read_csv (r'/content/train_features.csv')\n",
        "df_test = pd.read_csv (r'/content/test_features.csv')\n",
        "df_label = pd.read_csv (r'/content/train_labels.csv')\n",
        "\n",
        "train_y_all = np.array(df_label['labels'], dtype = \"uint32\").tolist()\n",
        "def Kmers_funct(seq, size=6):\n",
        "   return [seq[x:x+size].lower() for x in range(len(seq) - size + 1)]\n",
        "#convert our training data sequences into short overlapping k-mers of length 6. \n",
        "dna = df_train['dna']\n",
        "train_x_all= dna.apply(lambda x: Kmers_funct(x)).to_list()\n"
      ],
      "execution_count": 30,
      "outputs": []
    },
    {
      "cell_type": "code",
      "metadata": {
        "id": "66X2-vH9sFuD"
      },
      "source": [
        "from sklearn.model_selection import train_test_split"
      ],
      "execution_count": 9,
      "outputs": []
    },
    {
      "cell_type": "code",
      "metadata": {
        "id": "ITbwxZAJsxPX"
      },
      "source": [
        "train_x, valid_x, train_y, valid_y = train_test_split(\n",
        "    train_x_all, train_y_all, test_size=0.2, random_state=8)"
      ],
      "execution_count": 32,
      "outputs": []
    },
    {
      "cell_type": "code",
      "metadata": {
        "colab": {
          "base_uri": "https://localhost:8080/"
        },
        "id": "W2xt2virb9Uz",
        "outputId": "c6e6556a-5069-4463-ceac-15928af3e8d5"
      },
      "source": [
        "from kashgari.tasks.classification import CNN_Model\t\n",
        "\n",
        "model = CNN_Model()\n",
        "model.fit(train_x, train_y, valid_x, valid_y, epochs=5)"
      ],
      "execution_count": 35,
      "outputs": [
        {
          "output_type": "stream",
          "name": "stderr",
          "text": [
            "Preparing text vocab dict: 100%|██████████| 10324/10324 [00:01<00:00, 5565.10it/s]\n",
            "Preparing text vocab dict: 100%|██████████| 2582/2582 [00:00<00:00, 5220.55it/s]\n",
            "2021-09-26 01:05:04,638 [DEBUG] kashgari - --- Build vocab dict finished, Total: 6092 ---\n",
            "2021-09-26 01:05:04,640 [DEBUG] kashgari - Top-10: ['[PAD]', '[UNK]', '[CLS]', '[SEP]', '------', 'ttatta', 'tttatt', 'tttttt', 'ttttat', 'aatttt']\n",
            "Preparing classification label vocab dict: 100%|██████████| 10324/10324 [00:00<00:00, 559695.92it/s]\n",
            "Preparing classification label vocab dict: 100%|██████████| 2582/2582 [00:00<00:00, 419284.25it/s]\n",
            "Calculating sequence length: 100%|██████████| 10324/10324 [00:00<00:00, 781553.91it/s]\n",
            "Calculating sequence length: 100%|██████████| 2582/2582 [00:00<00:00, 367083.35it/s]\n",
            "2021-09-26 01:05:04,757 [DEBUG] kashgari - Calculated sequence length = 656\n",
            "2021-09-26 01:05:04,803 [DEBUG] kashgari - Model: \"model_3\"\n",
            "_________________________________________________________________\n",
            "Layer (type)                 Output Shape              Param #   \n",
            "=================================================================\n",
            "input (InputLayer)           [(None, None)]            0         \n",
            "_________________________________________________________________\n",
            "layer_embedding (Embedding)  (None, None, 100)         609200    \n",
            "_________________________________________________________________\n",
            "conv1d_1 (Conv1D)            (None, None, 128)         64128     \n",
            "_________________________________________________________________\n",
            "global_max_pooling1d_1 (Glob (None, 128)               0         \n",
            "_________________________________________________________________\n",
            "dense_2 (Dense)              (None, 64)                8256      \n",
            "_________________________________________________________________\n",
            "dense_3 (Dense)              (None, 1202)              78130     \n",
            "_________________________________________________________________\n",
            "activation_1 (Activation)    (None, 1202)              0         \n",
            "=================================================================\n",
            "Total params: 759,714\n",
            "Trainable params: 759,714\n",
            "Non-trainable params: 0\n",
            "_________________________________________________________________\n"
          ]
        },
        {
          "output_type": "stream",
          "name": "stdout",
          "text": [
            "Epoch 1/5\n",
            "161/161 [==============================] - 65s 402ms/step - loss: 6.6172 - accuracy: 0.0396 - val_loss: 5.3679 - val_accuracy: 0.1598\n",
            "Epoch 2/5\n",
            "161/161 [==============================] - 64s 400ms/step - loss: 1.8608 - accuracy: 0.6981 - val_loss: 0.4883 - val_accuracy: 0.9164\n",
            "Epoch 3/5\n",
            "161/161 [==============================] - 64s 398ms/step - loss: 0.1636 - accuracy: 0.9658 - val_loss: 0.2308 - val_accuracy: 0.9512\n",
            "Epoch 4/5\n",
            "161/161 [==============================] - 64s 400ms/step - loss: 0.0656 - accuracy: 0.9858 - val_loss: 0.1435 - val_accuracy: 0.9715\n",
            "Epoch 5/5\n",
            "161/161 [==============================] - 64s 400ms/step - loss: 0.0386 - accuracy: 0.9910 - val_loss: 0.1416 - val_accuracy: 0.9707\n"
          ]
        },
        {
          "output_type": "execute_result",
          "data": {
            "text/plain": [
              "<tensorflow.python.keras.callbacks.History at 0x7f3d4d5cb8d0>"
            ]
          },
          "metadata": {},
          "execution_count": 35
        }
      ]
    },
    {
      "cell_type": "code",
      "metadata": {
        "colab": {
          "base_uri": "https://localhost:8080/"
        },
        "id": "ngW3-KpzdZML",
        "outputId": "bff943f7-5c5b-4bf7-b950-c6733cba3540"
      },
      "source": [
        "# Model data will save to `saved_ner_model` folder\n",
        "model.save('saved_cnn_model')\n",
        "\n",
        "# Load saved model\n",
        "loaded_model = CNN_Model.load_model('saved_cnn_model')"
      ],
      "execution_count": null,
      "outputs": [
        {
          "output_type": "stream",
          "name": "stderr",
          "text": [
            "2021-09-24 16:08:10,322 [INFO] kashgari - model saved to /content/saved_cnn_model\n"
          ]
        }
      ]
    },
    {
      "cell_type": "code",
      "metadata": {
        "colab": {
          "base_uri": "https://localhost:8080/"
        },
        "id": "Wm5iIV56C-Sz",
        "outputId": "437bc5b1-55f4-43a8-8141-fc3e035d48f6"
      },
      "source": [
        "loaded_model = CNN_Model.load_model('saved_cnn_model')\n",
        "loaded_model.compile_model()\n",
        "model.fit(train_x, train_y, valid_x, valid_y, epochs = 5)"
      ],
      "execution_count": null,
      "outputs": [
        {
          "output_type": "stream",
          "name": "stderr",
          "text": [
            "2021-09-24 16:08:11,752 [DEBUG] kashgari - Model: \"model_9\"\n",
            "_________________________________________________________________\n",
            "Layer (type)                 Output Shape              Param #   \n",
            "=================================================================\n",
            "input (InputLayer)           [(None, None)]            0         \n",
            "_________________________________________________________________\n",
            "layer_embedding (Embedding)  (None, None, 100)         609200    \n",
            "_________________________________________________________________\n",
            "conv1d_6 (Conv1D)            (None, None, 128)         64128     \n",
            "_________________________________________________________________\n",
            "global_max_pooling1d_5 (Glob (None, 128)               0         \n",
            "_________________________________________________________________\n",
            "dense_7 (Dense)              (None, 64)                8256      \n",
            "_________________________________________________________________\n",
            "dense_8 (Dense)              (None, 1202)              78130     \n",
            "_________________________________________________________________\n",
            "activation_4 (Activation)    (None, 1202)              0         \n",
            "=================================================================\n",
            "Total params: 759,714\n",
            "Trainable params: 759,714\n",
            "Non-trainable params: 0\n",
            "_________________________________________________________________\n"
          ]
        },
        {
          "output_type": "stream",
          "name": "stdout",
          "text": [
            "Epoch 1/5\n",
            "161/161 [==============================] - 64s 395ms/step - loss: 0.0366 - accuracy: 0.9914 - val_loss: 0.1160 - val_accuracy: 0.9789\n",
            "Epoch 2/5\n",
            "161/161 [==============================] - 63s 395ms/step - loss: 0.0280 - accuracy: 0.9923 - val_loss: 0.1151 - val_accuracy: 0.9805\n",
            "Epoch 3/5\n",
            "161/161 [==============================] - 64s 396ms/step - loss: 0.0207 - accuracy: 0.9943 - val_loss: 0.1187 - val_accuracy: 0.9777\n",
            "Epoch 4/5\n",
            "161/161 [==============================] - 64s 395ms/step - loss: 0.0179 - accuracy: 0.9952 - val_loss: 0.1163 - val_accuracy: 0.9805\n",
            "Epoch 5/5\n",
            "161/161 [==============================] - 64s 395ms/step - loss: 0.0156 - accuracy: 0.9955 - val_loss: 0.1102 - val_accuracy: 0.9828\n"
          ]
        },
        {
          "output_type": "execute_result",
          "data": {
            "text/plain": [
              "<tensorflow.python.keras.callbacks.History at 0x7f0c3bbb33d0>"
            ]
          },
          "metadata": {},
          "execution_count": 45
        }
      ]
    },
    {
      "cell_type": "code",
      "metadata": {
        "colab": {
          "base_uri": "https://localhost:8080/"
        },
        "id": "e2okq0bflhbg",
        "outputId": "3df45ac4-c480-470f-fae0-17d7f3260af4"
      },
      "source": [
        "model.fit(train_x, train_y, valid_x, valid_y, epochs = 5)"
      ],
      "execution_count": null,
      "outputs": [
        {
          "output_type": "stream",
          "name": "stderr",
          "text": [
            "2021-09-24 16:14:25,488 [DEBUG] kashgari - Model: \"model_9\"\n",
            "_________________________________________________________________\n",
            "Layer (type)                 Output Shape              Param #   \n",
            "=================================================================\n",
            "input (InputLayer)           [(None, None)]            0         \n",
            "_________________________________________________________________\n",
            "layer_embedding (Embedding)  (None, None, 100)         609200    \n",
            "_________________________________________________________________\n",
            "conv1d_6 (Conv1D)            (None, None, 128)         64128     \n",
            "_________________________________________________________________\n",
            "global_max_pooling1d_5 (Glob (None, 128)               0         \n",
            "_________________________________________________________________\n",
            "dense_7 (Dense)              (None, 64)                8256      \n",
            "_________________________________________________________________\n",
            "dense_8 (Dense)              (None, 1202)              78130     \n",
            "_________________________________________________________________\n",
            "activation_4 (Activation)    (None, 1202)              0         \n",
            "=================================================================\n",
            "Total params: 759,714\n",
            "Trainable params: 759,714\n",
            "Non-trainable params: 0\n",
            "_________________________________________________________________\n"
          ]
        },
        {
          "output_type": "stream",
          "name": "stdout",
          "text": [
            "Epoch 1/5\n",
            "161/161 [==============================] - 64s 395ms/step - loss: 0.0135 - accuracy: 0.9960 - val_loss: 0.1082 - val_accuracy: 0.9832\n",
            "Epoch 2/5\n",
            "161/161 [==============================] - 63s 394ms/step - loss: 0.0121 - accuracy: 0.9967 - val_loss: 0.1093 - val_accuracy: 0.9828\n",
            "Epoch 3/5\n",
            "161/161 [==============================] - 63s 392ms/step - loss: 0.0112 - accuracy: 0.9965 - val_loss: 0.1172 - val_accuracy: 0.9809\n",
            "Epoch 4/5\n",
            "161/161 [==============================] - 64s 399ms/step - loss: 0.0105 - accuracy: 0.9973 - val_loss: 0.1091 - val_accuracy: 0.9812\n",
            "Epoch 5/5\n",
            "161/161 [==============================] - 65s 403ms/step - loss: 0.0092 - accuracy: 0.9971 - val_loss: 0.1100 - val_accuracy: 0.9820\n"
          ]
        },
        {
          "output_type": "execute_result",
          "data": {
            "text/plain": [
              "<tensorflow.python.keras.callbacks.History at 0x7f0c5e5c8090>"
            ]
          },
          "metadata": {},
          "execution_count": 46
        }
      ]
    },
    {
      "cell_type": "code",
      "metadata": {
        "colab": {
          "base_uri": "https://localhost:8080/"
        },
        "id": "fhqRfzZogXUG",
        "outputId": "1becefd3-6b17-4628-a5ba-ead29048f662"
      },
      "source": [
        "# full training\n",
        "model = CNN_Model()\n",
        "model.fit(train_x_all, train_y_all, epochs = 10)"
      ],
      "execution_count": null,
      "outputs": [
        {
          "output_type": "stream",
          "name": "stderr",
          "text": [
            "Preparing text vocab dict: 100%|██████████| 12906/12906 [00:01<00:00, 6606.46it/s]\n",
            "2021-09-24 16:20:03,691 [DEBUG] kashgari - --- Build vocab dict finished, Total: 6092 ---\n",
            "2021-09-24 16:20:03,694 [DEBUG] kashgari - Top-10: ['[PAD]', '[UNK]', '[CLS]', '[SEP]', '------', 'TTATTA', 'TTTATT', 'TTTTTT', 'TTTTAT', 'AATTTT']\n",
            "Preparing classification label vocab dict: 100%|██████████| 12906/12906 [00:00<00:00, 939818.87it/s]\n",
            "Calculating sequence length: 100%|██████████| 12906/12906 [00:00<00:00, 1162397.46it/s]\n",
            "2021-09-24 16:20:03,763 [DEBUG] kashgari - Calculated sequence length = 656\n",
            "2021-09-24 16:20:03,804 [DEBUG] kashgari - Model: \"model_11\"\n",
            "_________________________________________________________________\n",
            "Layer (type)                 Output Shape              Param #   \n",
            "=================================================================\n",
            "input (InputLayer)           [(None, None)]            0         \n",
            "_________________________________________________________________\n",
            "layer_embedding (Embedding)  (None, None, 100)         609200    \n",
            "_________________________________________________________________\n",
            "conv1d_7 (Conv1D)            (None, None, 128)         64128     \n",
            "_________________________________________________________________\n",
            "global_max_pooling1d_6 (Glob (None, 128)               0         \n",
            "_________________________________________________________________\n",
            "dense_9 (Dense)              (None, 64)                8256      \n",
            "_________________________________________________________________\n",
            "dense_10 (Dense)             (None, 1202)              78130     \n",
            "_________________________________________________________________\n",
            "activation_5 (Activation)    (None, 1202)              0         \n",
            "=================================================================\n",
            "Total params: 759,714\n",
            "Trainable params: 759,714\n",
            "Non-trainable params: 0\n",
            "_________________________________________________________________\n"
          ]
        },
        {
          "output_type": "stream",
          "name": "stdout",
          "text": [
            "Epoch 1/10\n",
            "201/201 [==============================] - 77s 382ms/step - loss: 6.2417 - accuracy: 0.0797\n",
            "Epoch 2/10\n",
            "201/201 [==============================] - 77s 384ms/step - loss: 0.8550 - accuracy: 0.8542\n",
            "Epoch 3/10\n",
            "201/201 [==============================] - 77s 384ms/step - loss: 0.1075 - accuracy: 0.9770\n",
            "Epoch 4/10\n",
            "201/201 [==============================] - 77s 383ms/step - loss: 0.0531 - accuracy: 0.9879\n",
            "Epoch 5/10\n",
            "201/201 [==============================] - 76s 380ms/step - loss: 0.0326 - accuracy: 0.9927\n",
            "Epoch 6/10\n",
            "201/201 [==============================] - 77s 384ms/step - loss: 0.0297 - accuracy: 0.9927\n",
            "Epoch 7/10\n",
            "201/201 [==============================] - 77s 384ms/step - loss: 0.0187 - accuracy: 0.9958\n",
            "Epoch 8/10\n",
            "201/201 [==============================] - 76s 379ms/step - loss: 0.0201 - accuracy: 0.9949\n",
            "Epoch 9/10\n",
            "201/201 [==============================] - 76s 379ms/step - loss: 0.0163 - accuracy: 0.9950\n",
            "Epoch 10/10\n",
            "201/201 [==============================] - 77s 382ms/step - loss: 0.0148 - accuracy: 0.9955\n"
          ]
        },
        {
          "output_type": "execute_result",
          "data": {
            "text/plain": [
              "<tensorflow.python.keras.callbacks.History at 0x7f0c3bbbc510>"
            ]
          },
          "metadata": {},
          "execution_count": 47
        }
      ]
    },
    {
      "cell_type": "code",
      "metadata": {
        "colab": {
          "base_uri": "https://localhost:8080/"
        },
        "id": "fPUCOWM7ds6T",
        "outputId": "b36f128d-f71c-4f00-d22c-8d0feb5c3260"
      },
      "source": [
        "pred = model.predict(test_x)"
      ],
      "execution_count": null,
      "outputs": [
        {
          "output_type": "stream",
          "name": "stderr",
          "text": [
            "2021-09-24 17:13:41,842 [WARNING] kashgari - Sequence length is None, will use the max length of the samples, which is 1055\n",
            "2021-09-24 17:13:44,463 [DEBUG] kashgari - predict input shape (8306, 1055) x: \n",
            "[[   2  112  147 ...    0    0    0]\n",
            " [   2 1528 1879 ...    0    0    0]\n",
            " [   2  110  188 ...    0    0    0]\n",
            " ...\n",
            " [   2  118  468 ...    0    0    0]\n",
            " [   2  110  188 ...    0    0    0]\n",
            " [   2  907 2392 ...    0    0    0]]\n",
            "2021-09-24 17:14:05,066 [DEBUG] kashgari - predict output shape (8306, 1202)\n",
            "2021-09-24 17:14:05,085 [DEBUG] kashgari - predict output argmax: [1157   11   52 ... 1126  817  714]\n"
          ]
        }
      ]
    },
    {
      "cell_type": "code",
      "metadata": {
        "colab": {
          "base_uri": "https://localhost:8080/"
        },
        "id": "8VV-kFqAdzjl",
        "outputId": "fad369d4-c251-480a-d472-0b4ec899cd94"
      },
      "source": [
        "np.shape(pred)"
      ],
      "execution_count": null,
      "outputs": [
        {
          "output_type": "execute_result",
          "data": {
            "text/plain": [
              "(8306,)"
            ]
          },
          "metadata": {},
          "execution_count": 49
        }
      ]
    },
    {
      "cell_type": "code",
      "metadata": {
        "id": "caJbQgeNeIio"
      },
      "source": [
        "with open('pred_cnn_ww_2.txt', 'w') as f:\n",
        "    for item in pred:\n",
        "        f.write(\"%s\\n\" % item)"
      ],
      "execution_count": null,
      "outputs": []
    }
  ]
}