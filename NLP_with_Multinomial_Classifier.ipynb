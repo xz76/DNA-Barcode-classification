{
  "nbformat": 4,
  "nbformat_minor": 0,
  "metadata": {
    "colab": {
      "name": "NLP with Multinomial Classifier.ipynb",
      "provenance": [],
      "collapsed_sections": []
    },
    "kernelspec": {
      "display_name": "Python 3",
      "name": "python3"
    },
    "language_info": {
      "name": "python"
    }
  },
  "cells": [
    {
      "cell_type": "markdown",
      "metadata": {
        "id": "vPVpEnLxjfLz"
      },
      "source": [
        "# NLP with Multinomial Classifier\n",
        "\n",
        "*   Using embeddings of k-mers, then fed on multinomial classifier.\n",
        "*   Training accuracy is 99.5%.\n",
        "*   The final Kaggle accuracy is 96.990%.(Due to entry issue, I could not submit this result successfully at the due date.)\n",
        "\n"
      ]
    },
    {
      "cell_type": "code",
      "metadata": {
        "id": "vVn3nfiCM75S"
      },
      "source": [
        "from sklearn import model_selection, preprocessing, linear_model, naive_bayes, metrics, svm\n",
        "from sklearn.feature_extraction.text import TfidfVectorizer, CountVectorizer\n",
        "from sklearn import decomposition, ensemble\n",
        "\n",
        "import pandas, xgboost, numpy, textblob, string\n",
        "from keras.preprocessing import text, sequence\n",
        "from keras import layers, models, optimizers"
      ],
      "execution_count": 2,
      "outputs": []
    },
    {
      "cell_type": "code",
      "metadata": {
        "id": "tU140RZpDuAk"
      },
      "source": [
        "import numpy as np\n",
        "import pandas as pd\n",
        "import matplotlib.pyplot as plt\n",
        "%matplotlib inline\n",
        "\n",
        "df_train = pd.read_csv (r'/content/train_features.csv')\n",
        "df_test = pd.read_csv (r'/content/test_features.csv')\n",
        "df_label = pd.read_csv (r'/content/train_labels.csv')\n",
        "\n",
        "y_train = np.array(df_label['labels'], dtype = \"uint32\")"
      ],
      "execution_count": 3,
      "outputs": []
    },
    {
      "cell_type": "code",
      "metadata": {
        "colab": {
          "base_uri": "https://localhost:8080/"
        },
        "id": "ItVIEMBmcv-D",
        "outputId": "1e18c01d-7ce2-4bc8-b524-70cc7f604423"
      },
      "source": [
        "df_combine = df_train.append(df_test, ignore_index = True)\n",
        "df_combine.shape"
      ],
      "execution_count": 4,
      "outputs": [
        {
          "output_type": "execute_result",
          "data": {
            "text/plain": [
              "(21212, 2)"
            ]
          },
          "metadata": {},
          "execution_count": 4
        }
      ]
    },
    {
      "cell_type": "code",
      "metadata": {
        "id": "8GgxE0LwOmhR"
      },
      "source": [
        "\n",
        "def Kmers_funct(seq, size=6):\n",
        "   return [seq[x:x+size].lower() for x in range(len(seq) - size + 1)]\n",
        "#convert our training data sequences into short overlapping k-mers of length 6. \n",
        "dna = df_combine['dna']\n",
        "x_word= dna.apply(lambda x: Kmers_funct(x))\n",
        "\n"
      ],
      "execution_count": 5,
      "outputs": []
    },
    {
      "cell_type": "code",
      "metadata": {
        "colab": {
          "base_uri": "https://localhost:8080/"
        },
        "id": "i_rkBBWcjn_t",
        "outputId": "3e062774-77e9-489b-ffe8-e1f66db97275"
      },
      "source": [
        "x_word"
      ],
      "execution_count": 16,
      "outputs": [
        {
          "output_type": "execute_result",
          "data": {
            "text/plain": [
              "0        [aacatt, acatta, cattat, attata, ttatac, tatac...\n",
              "1        [tacact, acacta, cactat, actata, ctatac, tatac...\n",
              "2        [------, ------, ------, ------, ------, -----...\n",
              "3        [aacatt, acatta, cattat, attata, ttatat, tatat...\n",
              "4        [aacttt, acttta, ctttat, tttata, ttatat, tatat...\n",
              "                               ...                        \n",
              "21207    [------, ------, ------, ------, ------, -----...\n",
              "21208    [tacatt, acatta, cattat, attata, ttatat, tatat...\n",
              "21209    [aacatt, acatta, cattat, attata, ttatat, tatat...\n",
              "21210    [tacttt, acttta, ctttat, tttata, ttatat, tatat...\n",
              "21211    [gacttt, actttg, ctttgt, tttgta, ttgtat, tgtat...\n",
              "Name: dna, Length: 21212, dtype: object"
            ]
          },
          "metadata": {},
          "execution_count": 16
        }
      ]
    },
    {
      "cell_type": "code",
      "metadata": {
        "id": "GHaEUshNS9br"
      },
      "source": [
        "y = pandas.DataFrame(y_train)\n",
        "x_texts = list(x_word)\n",
        "for item in range(len(x_texts)):\n",
        "   x_texts[item] = ' '.join(x_texts[item])\n",
        "y_label = y.iloc[:, 0].values"
      ],
      "execution_count": 6,
      "outputs": []
    },
    {
      "cell_type": "code",
      "metadata": {
        "id": "Geh6zceNRtZE"
      },
      "source": [
        "from sklearn.feature_extraction.text import CountVectorizer\n",
        "cv = CountVectorizer(ngram_range=(4,4)) #The n-gram size of 4 is previously determined by testing\n",
        "X = cv.fit_transform(x_texts)"
      ],
      "execution_count": 7,
      "outputs": []
    },
    {
      "cell_type": "code",
      "metadata": {
        "id": "xbfdPfhvdQmr"
      },
      "source": [
        "subX = X[0:12906,]"
      ],
      "execution_count": 9,
      "outputs": []
    },
    {
      "cell_type": "code",
      "metadata": {
        "colab": {
          "base_uri": "https://localhost:8080/"
        },
        "id": "lVqZPjB4WzuQ",
        "outputId": "289ecd11-0a31-4743-b467-d84b4c6bacd0"
      },
      "source": [
        "from sklearn.model_selection import train_test_split\n",
        "\n",
        "X_train, X_test, y_train, y_test = train_test_split(subX,\n",
        "                                                   y_label,\n",
        "                                                   test_size = 0.20,\n",
        "                                                   random_state=42)\n",
        "                                                   \n",
        "### Multinomial Naive Bayes Classifier ###\n",
        "from sklearn.naive_bayes import MultinomialNB\n",
        "classifier = MultinomialNB(alpha=0.1)\n",
        "classifier.fit(subX, y_label)"
      ],
      "execution_count": 10,
      "outputs": [
        {
          "output_type": "execute_result",
          "data": {
            "text/plain": [
              "MultinomialNB(alpha=0.1, class_prior=None, fit_prior=True)"
            ]
          },
          "metadata": {},
          "execution_count": 10
        }
      ]
    },
    {
      "cell_type": "code",
      "metadata": {
        "id": "PprQWqE9X2Ns"
      },
      "source": [
        "y_pred = classifier.predict(X_test)"
      ],
      "execution_count": 12,
      "outputs": []
    },
    {
      "cell_type": "code",
      "metadata": {
        "colab": {
          "base_uri": "https://localhost:8080/"
        },
        "id": "LnFBjPvUXL0U",
        "outputId": "9f938bf7-93e9-43be-e927-0c76e1d73c98"
      },
      "source": [
        "y_pred"
      ],
      "execution_count": 13,
      "outputs": [
        {
          "output_type": "execute_result",
          "data": {
            "text/plain": [
              "array([1212, 1062,  327, ...,  624,   77,  886], dtype=uint32)"
            ]
          },
          "metadata": {},
          "execution_count": 13
        }
      ]
    },
    {
      "cell_type": "code",
      "metadata": {
        "colab": {
          "base_uri": "https://localhost:8080/"
        },
        "id": "CuB_JjnPXD0z",
        "outputId": "110c41ab-0fab-44ae-ac83-9471743e501e"
      },
      "source": [
        "from sklearn.metrics import accuracy_score, f1_score, precision_score, recall_score\n",
        "\n",
        "print(\"Confusion matrix for predictions on human test DNA sequence\\n\")\n",
        "\n",
        "print(pd.crosstab(pd.Series(y_test, name='Actual'), pd.Series(y_pred, name='Predicted')))\n",
        "\n",
        "def get_metrics(y_test, y_predicted):\n",
        "   accuracy = accuracy_score(y_test, y_predicted)\n",
        "   precision = precision_score(y_test, y_predicted, average='weighted')\n",
        "   recall = recall_score(y_test, y_predicted, average='weighted')\n",
        "   f1 = f1_score(y_test, y_predicted, average='weighted')\n",
        "   return accuracy, precision, recall, f1\n",
        "   \n",
        "accuracy, precision, recall, f1 = get_metrics(y_test, y_pred)\n",
        "\n",
        "print(\"accuracy = %.3f \\nprecision = %.3f \\nrecall = %.3f \\nf1 = %.3f\" % (accuracy, precision, recall, f1))"
      ],
      "execution_count": 14,
      "outputs": [
        {
          "output_type": "stream",
          "name": "stdout",
          "text": [
            "Confusion matrix for predictions on human test DNA sequence\n",
            "\n",
            "Predicted  1     2     3     4     5     ...  1207  1209  1211  1212  1213\n",
            "Actual                                   ...                              \n",
            "1             2     0     0     0     0  ...     0     0     0     0     0\n",
            "2             0     1     0     0     0  ...     0     0     0     0     0\n",
            "3             0     0     3     0     0  ...     0     0     0     0     0\n",
            "4             0     0     0     3     0  ...     0     0     0     0     0\n",
            "5             0     0     0     0     5  ...     0     0     0     0     0\n",
            "...         ...   ...   ...   ...   ...  ...   ...   ...   ...   ...   ...\n",
            "1207          0     0     0     0     0  ...     1     0     0     0     0\n",
            "1209          0     0     0     0     0  ...     0     2     0     0     0\n",
            "1211          0     0     0     0     0  ...     0     0     3     0     0\n",
            "1212          0     0     0     0     0  ...     0     0     0    19     0\n",
            "1213          0     0     0     0     0  ...     0     0     0     0     2\n",
            "\n",
            "[1015 rows x 1008 columns]\n",
            "accuracy = 0.995 \n",
            "precision = 0.993 \n",
            "recall = 0.995 \n",
            "f1 = 0.993\n"
          ]
        },
        {
          "output_type": "stream",
          "name": "stderr",
          "text": [
            "/usr/local/lib/python3.7/dist-packages/sklearn/metrics/_classification.py:1272: UndefinedMetricWarning: Precision is ill-defined and being set to 0.0 in labels with no predicted samples. Use `zero_division` parameter to control this behavior.\n",
            "  _warn_prf(average, modifier, msg_start, len(result))\n",
            "/usr/local/lib/python3.7/dist-packages/sklearn/metrics/_classification.py:1272: UndefinedMetricWarning: Recall is ill-defined and being set to 0.0 in labels with no true samples. Use `zero_division` parameter to control this behavior.\n",
            "  _warn_prf(average, modifier, msg_start, len(result))\n"
          ]
        }
      ]
    },
    {
      "cell_type": "code",
      "metadata": {
        "colab": {
          "base_uri": "https://localhost:8080/"
        },
        "id": "w3CK91JofckE",
        "outputId": "97157e52-8559-49bd-b893-73912686ccd0"
      },
      "source": [
        "df_test.shape"
      ],
      "execution_count": 17,
      "outputs": [
        {
          "output_type": "execute_result",
          "data": {
            "text/plain": [
              "(8306, 2)"
            ]
          },
          "metadata": {},
          "execution_count": 17
        }
      ]
    },
    {
      "cell_type": "code",
      "metadata": {
        "id": "AsbNqoywfWWw"
      },
      "source": [
        "y_submit = classifier.predict(X[12906:21212, ])"
      ],
      "execution_count": null,
      "outputs": []
    },
    {
      "cell_type": "code",
      "metadata": {
        "id": "sq8TcLtb2JYy",
        "colab": {
          "base_uri": "https://localhost:8080/"
        },
        "outputId": "06c8d596-ea61-4936-c07a-4c67ef789da2"
      },
      "source": [
        "y_submit.shape"
      ],
      "execution_count": null,
      "outputs": [
        {
          "output_type": "execute_result",
          "data": {
            "text/plain": [
              "(8306,)"
            ]
          },
          "metadata": {},
          "execution_count": 12
        }
      ]
    },
    {
      "cell_type": "code",
      "metadata": {
        "id": "pNvCaHfLgLw-"
      },
      "source": [
        "\n",
        "np.savetxt(\"pred_nlp3.csv\", y_submit)"
      ],
      "execution_count": null,
      "outputs": []
    }
  ]
}